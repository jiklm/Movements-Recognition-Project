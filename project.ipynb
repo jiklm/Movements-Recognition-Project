{
  "cells": [
    {
      "cell_type": "code",
      "execution_count": null,
      "metadata": {
        "colab": {
          "base_uri": "https://localhost:8080/"
        },
        "id": "iJmxi-EEgRHI",
        "outputId": "4066ae1a-2ef5-49ab-bc09-8612a9eb7d72"
      },
      "outputs": [
        {
          "output_type": "stream",
          "name": "stdout",
          "text": [
            "Mounted at /content/drive\n"
          ]
        }
      ],
      "source": [
        "import matplotlib.pyplot as plt\n",
        "import torch\n",
        "import torch.nn as nn\n",
        "import torch.nn.functional as F\n",
        "import torch.optim as optim\n",
        "import pandas as pd\n",
        "import numpy as np\n",
        "from torch.utils.data import Dataset, DataLoader\n",
        "from sklearn.model_selection import train_test_split\n",
        "from google.colab import drive\n",
        "from sklearn.metrics import confusion_matrix\n",
        "import torch.optim.lr_scheduler as lr_scheduler\n",
        "drive.mount('/content/drive')"
      ]
    },
    {
      "cell_type": "code",
      "execution_count": null,
      "metadata": {
        "id": "g-5F_5edgSEY"
      },
      "outputs": [],
      "source": [
        "class MyDataset(Dataset):\n",
        "    def __init__(self, features, labels, transform=None):\n",
        "        self.features = features\n",
        "        self.labels = labels\n",
        "        self.transform = transform\n",
        "        self.str_mapping = {'walk': 0, 'fast': 1, 'run': 2} # Map actions to corresponding numeric codes\n",
        "\n",
        "    def __len__(self):\n",
        "        return len(self.features)\n",
        "\n",
        "    def __getitem__(self, idx):\n",
        "        features = self.features[idx].astype(np.float32)\n",
        "        label = self.str_mapping[self.labels[idx]]\n",
        "        features = features.reshape(1, features.shape[0])\n",
        "\n",
        "        if self.transform:\n",
        "            features = self.transform(features)\n",
        "\n",
        "        return features, label"
      ]
    },
    {
      "cell_type": "code",
      "execution_count": null,
      "metadata": {
        "id": "bSAtdfo5gSpg"
      },
      "outputs": [],
      "source": [
        "data = pd.read_csv('/content/drive/MyDrive/data/out.csv')\n",
        "X = data.iloc[:, :-1].values    # Features\n",
        "y = data.iloc[:, -1].values   # Labels\n",
        "\n",
        "# Training set features, test set features, training set labels, test set labels\n",
        "X_train, X_test, y_train, y_test = train_test_split(X, y, test_size=0.3, random_state=42)  # 70% train, 30% test\n",
        "\n",
        "train_dataset = MyDataset(X_train, y_train)\n",
        "test_dataset = MyDataset(X_test, y_test)\n",
        "train_loader = DataLoader(train_dataset, batch_size=128, shuffle=True)\n",
        "test_loader = DataLoader(test_dataset, batch_size=1000, shuffle=False)"
      ]
    },
    {
      "cell_type": "code",
      "execution_count": null,
      "metadata": {
        "colab": {
          "base_uri": "https://localhost:8080/",
          "height": 563
        },
        "id": "tKGPg51ugs94",
        "outputId": "c7afc0dd-08b9-4ae2-a63e-c035ec694a4c"
      },
      "outputs": [
        {
          "name": "stdout",
          "output_type": "stream",
          "text": [
            "No GPU available, using CPU instead.\n",
            "Accuracy of the network on the test data: 97 %\n",
            "[[1647    8    1]\n",
            " [   0 1485   81]\n",
            " [   0   55 1597]]\n"
          ]
        },
        {
          "data": {
            "image/png": "[encoded data removed]",
            "text/plain": [
              "<Figure size 640x480 with 1 Axes>"
            ]
          },
          "metadata": {},
          "output_type": "display_data"
        }
      ],
      "source": [
        "class CNNP(nn.Module):\n",
        "    def __init__(self):\n",
        "        super(CNNP, self).__init__()\n",
        "        # Define the first convolutional layer (Conv1D): receives 1 input channel, outputs 32 feature maps, kernel size is 3, using padding=1 to keep the input length unchanged\n",
        "        self.conv1 = nn.Conv1d(1, 32, kernel_size=3, padding=1)\n",
        "\n",
        "        # Define the second convolutional layer (Conv1D): receives 32 input channels, outputs 64 feature maps, kernel size is 3, using padding=1 to keep the input length unchanged\n",
        "        self.conv2 = nn.Conv1d(32, 64, kernel_size=3, padding=1)\n",
        "\n",
        "        # Define the pooling layer (MaxPool1D): window size is 2, used to reduce the length of the feature maps\n",
        "        self.pool = nn.MaxPool1d(2)\n",
        "\n",
        "        # Define the first fully connected layer: receives flattened features (64 channels), outputs 128-dimensional features\n",
        "        self.fc1 = nn.Linear(64 * 1, 128)  # Assuming the final flattened feature length is 1\n",
        "\n",
        "        # Define the second fully connected layer: receives 128-dimensional features, outputs 3 classes for final classification\n",
        "        self.fc2 = nn.Linear(128, 3)\n",
        "\n",
        "    def forward(self, x):\n",
        "        # First convolutional layer + ReLU activation function + Max pooling\n",
        "        x = self.pool(F.relu(self.conv1(x)))\n",
        "\n",
        "        # Second convolutional layer + ReLU activation function + Max pooling\n",
        "        x = self.pool(F.relu(self.conv2(x)))\n",
        "\n",
        "        # Flatten the multi-dimensional features into a 1D vector for input to the fully connected layers\n",
        "        x = x.view(x.size(0), -1)\n",
        "\n",
        "        # First fully connected layer + ReLU activation function\n",
        "        x = F.relu(self.fc1(x))\n",
        "\n",
        "        # Second fully connected layer (outputs classification results, without Softmax, as the subsequent loss function will handle it)\n",
        "        x = self.fc2(x)\n",
        "\n",
        "        return x\n",
        "\n",
        "if torch.cuda.is_available():\n",
        "    device = torch.device(\"cuda\")\n",
        "    print(\"Using GPU for training.\")\n",
        "else:\n",
        "    device = torch.device(\"cpu\")\n",
        "    print(\"No GPU available, using CPU instead.\")\n",
        "\n",
        "model = CNNP()\n",
        "model.to(device)\n",
        "optimizer = optim.Adam(model.parameters(), lr=0.00001)\n",
        "criterion = nn.CrossEntropyLoss()\n",
        "\n",
        "train_losses = []\n",
        "\n",
        "# Train the model\n",
        "for epoch in range(200):\n",
        "    for batch_idx, (data, target) in enumerate(train_loader):\n",
        "        data, target = data.to(device), target.to(device)\n",
        "        optimizer.zero_grad() # Clear gradients of model parameters\n",
        "        output = model(data) # Input data into the model to get the model's output\n",
        "        loss = criterion(output, target) # Calculate the loss between the model's output and the true labels\n",
        "        loss.backward() # Backpropagate the loss to calculate the gradients of model parameters\n",
        "        optimizer.step() # Update model parameters to reduce the loss\n",
        "    train_losses.append(loss.item()) # Add loss value for each epoch\n",
        "\n",
        "model.eval()\n",
        "correct = 0\n",
        "total = 0\n",
        "all_preds = []\n",
        "all_targets = []\n",
        "with torch.no_grad():\n",
        "    for data, target in test_loader:\n",
        "        data, target = data.to(device), target.to(device)\n",
        "        output = model(data)\n",
        "        _, predicted = torch.max(output.data, 1) # Get the predicted class from the model\n",
        "        total += target.size(0) # Update the total number of samples\n",
        "        correct += (predicted == target).sum().item() # Update the number of correct predictions\n",
        "        all_preds.extend(predicted.cpu().numpy()) # Add prediction results to the list\n",
        "        all_targets.extend(target.cpu().numpy()) # Add true labels to the list\n",
        "\n",
        "print('Accuracy of the network on the test data: %d %%' % (100 * correct / total))\n",
        "\n",
        "# Confusion matrix\n",
        "cm = confusion_matrix(all_targets, all_preds)\n",
        "print(cm)\n",
        "\n",
        "# Line plot\n",
        "plt.plot(train_losses)\n",
        "plt.title('Training Loss')\n",
        "plt.xlabel('Epoch')\n",
        "plt.ylabel('Loss')\n",
        "plt.show()"
      ]
    },
    {
      "cell_type": "code",
      "execution_count": null,
      "metadata": {
        "id": "Li0kMzJkf0-W"
      },
      "outputs": [],
      "source": [
        "data = pd.read_csv('/content/drive/MyDrive/data/concatenated_out.csv')\n",
        "X = data.iloc[:, :-1].values  # Features\n",
        "y = data.iloc[:, -1].values    # Labels\n",
        "X_train, X_test, y_train, y_test = train_test_split(X, y, test_size=0.3, random_state=42)  # 70% train, 30% test\n",
        "\n",
        "train_dataset = MyDataset(X_train, y_train)\n",
        "test_dataset = MyDataset(X_test, y_test)\n",
        "train_loader = DataLoader(train_dataset, batch_size=8192, shuffle=True)\n",
        "test_loader = DataLoader(test_dataset, batch_size=1000, shuffle=False)"
      ]
    },
    {
      "cell_type": "code",
      "execution_count": null,
      "metadata": {
        "id": "Owb0zkhdf_GA"
      },
      "outputs": [],
      "source": [
        "class CNNORI(nn.Module):\n",
        "    def __init__(self):\n",
        "        super(CNNORI, self).__init__()\n",
        "        # Define the first convolutional layer (Conv1D): receives 1 input channel, outputs 32 feature maps, kernel size is 2, using padding=1 to keep the input length unchanged\n",
        "        self.conv1 = nn.Conv1d(1, 32, kernel_size=2, padding=1)\n",
        "\n",
        "        # Define the second convolutional layer (Conv1D): receives 32 input channels, outputs 64 feature maps, kernel size is 2, using padding=1 to keep the input length unchanged\n",
        "        self.conv2 = nn.Conv1d(32, 64, kernel_size=2, padding=1)\n",
        "\n",
        "        # Define the pooling layer (MaxPool1D): window size is 2, used to reduce the length of the feature maps\n",
        "        self.pool = nn.MaxPool1d(2)\n",
        "\n",
        "        # Define the first fully connected layer: receives flattened features (64 channels), outputs 128-dimensional features\n",
        "        self.fc1 = nn.Linear(64 * 1, 128)\n",
        "\n",
        "        # Define the second fully connected layer: receives 128-dimensional features, outputs 3 classes for final classification\n",
        "        self.fc2 = nn.Linear(128, 3)\n",
        "\n",
        "    def forward(self, x):\n",
        "        # First convolutional layer + ReLU activation function + Max pooling\n",
        "        x = self.pool(F.relu(self.conv1(x)))\n",
        "\n",
        "        # Second convolutional layer + ReLU activation function + Max pooling\n",
        "        x = self.pool(F.relu(self.conv2(x)))\n",
        "\n",
        "        # Flatten the multi-dimensional features into a 1D vector for input to the fully connected layers\n",
        "        x = x.view(x.size(0), -1)\n",
        "\n",
        "        # First fully connected layer + ReLU activation function\n",
        "        x = F.relu(self.fc1(x))\n",
        "\n",
        "        # Second fully connected layer (outputs classification results, without Softmax, as the subsequent loss function will handle it)\n",
        "        x = self.fc2(x)\n",
        "\n",
        "        return x\n",
        "\n",
        "if torch.cuda.is_available():\n",
        "    device = torch.device(\"cuda\")\n",
        "    print(\"Using GPU for training.\")\n",
        "else:\n",
        "    device = torch.device(\"cpu\")\n",
        "    print(\"No GPU available, using CPU instead.\")\n",
        "\n",
        "model = CNNORI()\n",
        "model.to(device)\n",
        "optimizer = optim.Adam(model.parameters(), lr=0.00005)\n",
        "criterion = nn.CrossEntropyLoss()\n",
        "scheduler = lr_scheduler.ReduceLROnPlateau(optimizer, mode='min', factor=0.1, patience=5, verbose=True)\n",
        "\n",
        "train_losses = []\n",
        "\n",
        "# Train the model\n",
        "for epoch in range(100):\n",
        "    for batch_idx, (data, target) in enumerate(train_loader):\n",
        "        data, target = data.to(device), target.to(device)\n",
        "        optimizer.zero_grad()\n",
        "        output = model(data)\n",
        "        loss = criterion(output, target)\n",
        "        loss.backward()\n",
        "        optimizer.step()\n",
        "    scheduler.step(loss)\n",
        "    train_losses.append(loss.item())\n",
        "\n",
        "model.eval()\n",
        "correct = 0\n",
        "total = 0\n",
        "all_preds = []\n",
        "all_targets = []\n",
        "with torch.no_grad():\n",
        "    for data, target in test_loader:\n",
        "        data, target = data.to(device), target.to(device)\n",
        "        output = model(data)\n",
        "        _, predicted = torch.max(output.data, 1)\n",
        "        total += target.size(0)\n",
        "        correct += (predicted == target).sum().item()\n",
        "        all_preds.extend(predicted.cpu().numpy())\n",
        "        all_targets.extend(target.cpu().numpy())\n",
        "\n",
        "print('Accuracy of the network on the test data: %d %%' % (100 * correct / total))\n",
        "\n",
        "cm = confusion_matrix(all_targets, all_preds)\n",
        "print(cm)\n",
        "\n",
        "plt.plot(train_losses)\n",
        "plt.title('Training Loss')\n",
        "plt.xlabel('Epoch')\n",
        "plt.ylabel('Loss')\n",
        "plt.show()"
      ]
    }
  ],
  "metadata": {
    "accelerator": "GPU",
    "colab": {
      "cell_execution_strategy": "setup",
      "gpuType": "T4",
      "provenance": []
    },
    "kernelspec": {
      "display_name": "Python 3",
      "name": "python3"
    },
    "language_info": {
      "codemirror_mode": {
        "name": "ipython",
        "version": 3
      },
      "file_extension": ".py",
      "mimetype": "text/x-python",
      "name": "python",
      "nbconvert_exporter": "python",
      "pygments_lexer": "ipython3",
      "version": "3.7.3"
    }
  },
  "nbformat": 4,
  "nbformat_minor": 0
}